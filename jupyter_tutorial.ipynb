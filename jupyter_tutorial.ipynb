{
 "cells": [
  {
   "cell_type": "markdown",
   "metadata": {
    "id": "ZX6M7xdN4B0e"
   },
   "source": [
    "# CS 375 Tutorial: `Jupyter Notebooks`"
   ]
  },
  {
   "cell_type": "markdown",
   "metadata": {
    "id": "_mygv6OHty4i"
   },
   "source": [
    "<a id='overview'></a>\n",
    "## Overview\n",
    "\n",
    "This tutorial is prepared to help you get set up with **Jupyter Notebooks**.\n",
    "Even if you have prior experience working with **Jupyter Notebooks**, we still \n",
    "recommend skimming this tutorial.\n",
    "\n",
    "We assume you have completed the [set-up instructions](https://github.com/cs375williams/hw0-preliminaries/blob/main/setup.md). However, you can complete the tutorial without them.  "
   ]
  },
  {
   "cell_type": "markdown",
   "metadata": {
    "id": "3BAddkVL8wRR"
   },
   "source": [
    "<a id='contents'></a>\n",
    "## Contents\n",
    "\n",
    "1. [Cells](#cells)\n",
    "2. [Notebook Kernel](#notebook_kernel)\n",
    "3. [Environment Check](#environment_check)\n",
    "4. [Next Steps](#next_steps)"
   ]
  },
  {
   "cell_type": "markdown",
   "metadata": {
    "id": "OlvVUIMLtsMq",
    "pycharm": {
     "name": "#%% md\n"
    }
   },
   "source": [
    "<a id='cells'></a>\n",
    "## 1. Cells\n",
    "\n",
    "`Jupyter Notebooks` are similar to `Python` scripts, except that they are \n",
    "comprised of cells of `Python` code or text that can be run and modified \n",
    "separately and out-of-order.\n",
    "They provide an easy way to modify and test code snippets, or to provide \n",
    "explanations and visualizations to accompany your code.\n",
    "`Jupyter Notebooks` contain two types of cells:\n",
    "\n",
    "* `Markdown` Cells\n",
    "* `Code` Cells"
   ]
  },
  {
   "cell_type": "markdown",
   "metadata": {
    "id": "YgXTj6GItsMr"
   },
   "source": [
    "__Editing Markdown Cells__ \n",
    "You can edit `Markdown` cells by double clicking them or hitting the `Enter` \n",
    "key while they are selected.\n",
    "In general, you shouldn't need to do this on any of the assignments, since we \n",
    "will only grade your code."
   ]
  },
  {
   "cell_type": "markdown",
   "metadata": {
    "id": "WADMiDEytsMr"
   },
   "source": [
    "This cell is an example `Markdown` cell. "
   ]
  },
  {
   "cell_type": "markdown",
   "metadata": {
    "id": "y-OMMv3jtsMs"
   },
   "source": [
    "__Running Code Cells__ \n",
    "\n",
    "- You can run `Code` cells by selecting them and clicking run button (`▶ Run`) in the top toolbar.\n",
    "- You can also run `Code` cells by hitting `CTRL + Enter` or `Command + Enter` if you are on a `Mac`.\n",
    "- If you also want your cursor to advance to the next cell, you can use \n",
    "`Shift + Enter`.\n",
    "- The output of the code, such as `print` statements, will be shown below the cell after it is run. You can use the arrow keys to navigate between cells."
   ]
  },
  {
   "cell_type": "code",
   "execution_count": null,
   "metadata": {
    "id": "TqLguDiutsMs",
    "scrolled": true
   },
   "outputs": [],
   "source": [
    "# This is cell is an example Code cell\n",
    "print(\"I can run code!\")"
   ]
  },
  {
   "cell_type": "markdown",
   "metadata": {
    "id": "uICBMrO5tsMt",
    "pycharm": {
     "name": "#%% md\n"
    }
   },
   "source": [
    "Alternatively, if the last line of a cell is a variable, the value of the \n",
    "variable will be printed as the output. "
   ]
  },
  {
   "cell_type": "code",
   "execution_count": null,
   "metadata": {
    "id": "0HQlSmTftsMu",
    "pycharm": {
     "name": "#%%\n"
    }
   },
   "outputs": [],
   "source": [
    "var = \"I am a string.\"\n",
    "var"
   ]
  },
  {
   "cell_type": "markdown",
   "metadata": {
    "id": "m1cmpF4vtsMv",
    "pycharm": {
     "name": "#%% md\n"
    }
   },
   "source": [
    "__Adding New Cells__ \n",
    "- To add new cells, you can hit the `+` button in the top toolbar, or select `Insert Cell Above` or `Below` options in the `Insert` menu item.\n",
    "- You can also use the shortcuts `ESC + A` to insert a cell above the current cell, and `ESC + B` to insert a cell below. By default, a newly created cell will be a code cell.\n",
    "- You can change the type of a cell via the dropdown in the toolbar or by selecting it and hitting `ESC + Y` for `Code`, and `ESC + M` for `Markdown`.\n",
    "- You can also quickly delete cells by hitting `ESC + D + D`."
   ]
  },
  {
   "cell_type": "markdown",
   "metadata": {},
   "source": [
    "__Reference__ You can find the list of all shortcuts by hitting `ESC + H` if you ever need a reference!"
   ]
  },
  {
   "cell_type": "markdown",
   "metadata": {
    "id": "vrzDRVK5xTom"
   },
   "source": [
    "<a id='notebook_kernel'></a>\n",
    "## 2. Notebook Kernel\n",
    "\n",
    "**What is a Kernel?**\n",
    "- The notebook `Kernel` is the piece of program that executes the code in your notebook.\n",
    "- You can see the current `Kernel` on the top right of the notebook. \n",
    "    - If you correcly activated your `cs375` enviroment with conda, this should say`Python [conda env:cs375]`. \n",
    "    - This means that the notebook is using the `Python` installation in our `conda` environment, which is the correct version of the `Python` (`Python 3.11`) we expect you to use in the assignments.\n",
    "    - This also ensures that the versions of the external libraries used in the assignments, such as `NumPy`, are the same for everyone in the class.\n",
    "    \n",
    "  \n",
    "**Sanity check**\n",
    "- One of the common mistakes students run into is forgetting to activate our `conda` environment before starting to work on the assignments. \n",
    "    - In such cases, you may see `Python` complaining about not finding a module, or a specific method from a specific version of a module.\n",
    "    \n",
    "    \n",
    "**Manually changing Kernel**\n",
    "- To manually change the Kernel to the correct one, go to the menu bar at the top. Click \n",
    "    ``` \n",
    "    Kernel > Change kernel > Python [conda env:cs375]\n",
    "    ``` "
   ]
  },
  {
   "cell_type": "markdown",
   "metadata": {
    "id": "eqUZeFAStsMw"
   },
   "source": [
    "__Interrupting the Kernel__ You may want to interrupt the execution of your \n",
    "code in some cases, like the example below. \n",
    "- To stop the `Kernel`, you can click on the interrupt button (`■`) in the toolbar \n",
    "- Or select the `Interrupt` option in the `Kernel` menu item. "
   ]
  },
  {
   "cell_type": "code",
   "execution_count": null,
   "metadata": {
    "id": "7XeNN_bhtsMx"
   },
   "outputs": [],
   "source": [
    "# Code that will run forever\n",
    "# Interrupt it using the steps above \n",
    "while True:\n",
    "    pass"
   ]
  },
  {
   "cell_type": "markdown",
   "metadata": {
    "id": "4IWldeC1tsMy"
   },
   "source": [
    "__Restarting the Kernel__ \n",
    "\n",
    "Because you can execute cells in any order you want in a notebook, you may find that some cells work differently when you run them after running other cells.\n",
    "\n",
    "It is good to restart your `Kernel` in such cases to start with a clean state.\n",
    "\n",
    "- You can restart your `Kernel` by clicking on the restart button (`⟳`) in the toolbar  \n",
    "    - Or by selecting the ` Kernel > Restart` in the top menu. \n",
    "- You can restart the kernel and run all the cells in-order in one go by using the fast-forward button on the toolbar\n",
    "    - Or select `Kernel > Restart & Run All` in the top menu. \n",
    "\n",
    "Once you are done with your assignments, we recommend restarting your `Kernel` and running your cells in sequential order to make sure your code works as you intended. "
   ]
  },
  {
   "cell_type": "markdown",
   "metadata": {
    "id": "GxRk1ugn2WE2"
   },
   "source": [
    "__Notebook State__ Below is an example showing the side effects of running \n",
    "`Jupyter Notebook` cells out-of-order.\n",
    "When you run the cell immediately below, you will likely get the following \n",
    "error:\n",
    "```\n",
    "NameError: name 'var' is not defined\n",
    "```"
   ]
  },
  {
   "cell_type": "code",
   "execution_count": null,
   "metadata": {
    "colab": {
     "base_uri": "https://localhost:8080/"
    },
    "id": "w7I9YfBs2x-A",
    "outputId": "9f8cff8a-7e7c-425a-9a80-598bd1de95ad"
   },
   "outputs": [],
   "source": [
    "var"
   ]
  },
  {
   "cell_type": "markdown",
   "metadata": {
    "id": "9Wc0BF3v1WLe"
   },
   "source": [
    "Now, run the cell immediately below this one.\n",
    "This will initialize `var`.\n",
    "Now, go back and run the cell that produced an error earlier.\n",
    "You won't get an error this time around."
   ]
  },
  {
   "cell_type": "code",
   "execution_count": null,
   "metadata": {
    "id": "mqjPQ-cbtsMy"
   },
   "outputs": [],
   "source": [
    "# Initialize var\n",
    "# Run the cell above again. You won't get an error time around.\n",
    "var = 0"
   ]
  },
  {
   "cell_type": "markdown",
   "metadata": {
    "id": "GZ-Thh5j3R3b"
   },
   "source": [
    "**How did this happen?**\n",
    "\n",
    "- Running the cell initializing the `var` variable changed the state of the notebook, creating the new variable.\n",
    "- Once created, the new variable becomes accessible from all the cells in the notebook.\n",
    "- This applies to any future cell you run anywhere in the notebook, whether it be physically `above` or `below` the current cell.\n",
    "- The notebook's state is determined by the order in which the cells are run rather than the physical order of the cells in the notebook.\n",
    "- This is something important to keep in mind as your notebooks become longer and more complex, with lots of cells.\n",
    "- If you run into weird or unexpected behavior in your notebook, it probably has something to do with the order in which you executed your cells!"
   ]
  },
  {
   "cell_type": "code",
   "execution_count": null,
   "metadata": {
    "colab": {
     "base_uri": "https://localhost:8080/"
    },
    "id": "QVbYO_1ctsMz",
    "outputId": "80e3c981-51b3-4ad9-e2c2-983ecf348243"
   },
   "outputs": [],
   "source": [
    "# Perform an operation on the variable assuming it exists in the memory\n",
    "# Run this cell multiple times to see how the value of var changes\n",
    "var += 1\n",
    "var"
   ]
  },
  {
   "cell_type": "code",
   "execution_count": null,
   "metadata": {
    "id": "NwTbSLfatsMz"
   },
   "outputs": [],
   "source": [
    "# Execute this cell to delete the variable \n",
    "# Then execute the earlier cell that first had a NameError\n",
    "# You will get the NameError again!\n",
    "del var"
   ]
  },
  {
   "cell_type": "markdown",
   "metadata": {
    "id": "faOF834ctsM0",
    "pycharm": {
     "name": "#%% md\n"
    }
   },
   "source": [
    "__Saving Your Work__\n",
    "\n",
    "- `Jupyter Notebook` automatically saves your changes once every `120 seconds`, but to be safe we recommend saving frequently as you make changes.\n",
    "- You can save with the save button in the top toolbar or the usual shortcut\n",
    "(`CTRL + S` or `Command + S`)."
   ]
  },
  {
   "cell_type": "markdown",
   "metadata": {
    "id": "RyJNj6dDtsM0"
   },
   "source": [
    "<a id='environment_check'></a>\n",
    "## 3. Environment Check\n",
    "\n",
    "You will see an environment check at the beginning of your assignment notebooks. \n",
    "This is important to ensure that you are running the correct version of \n",
    "`Python` in the right environment!"
   ]
  },
  {
   "cell_type": "code",
   "execution_count": null,
   "metadata": {
    "id": "jw6sS9SHtsM1"
   },
   "outputs": [],
   "source": [
    "# Check the name of the conda environment\n",
    "import os\n",
    "assert os.environ['CONDA_DEFAULT_ENV'] == \"cs375\"\n",
    "\n",
    "# Check that the Python version is 3.11\n",
    "import sys\n",
    "assert sys.version_info.major == 3 and sys.version_info.minor == 11"
   ]
  },
  {
   "cell_type": "markdown",
   "metadata": {},
   "source": [
    "If the above cell causes an error, it means you're using the wrong environment or Python version and your turned in work could be incorrect. \n",
    "\n",
    "**Debugging**\n",
    "If this happens, we recommend the following debugging steps: \n",
    "\n",
    "1. Manually change the Kernel to the correct one. Go to the menu bar at the top. Click \n",
    "    ``` \n",
    "    Kernel > Change kernel > Python [conda env:cs375]\n",
    "    ``` \n",
    "    \n",
    "1. If that step does not work or the kernel does not exist, exit out and reactivate the conda environment. \n",
    "    1. Return to your terminal and kill the notebook server, `CTRL + C` or `CMD +C`\n",
    "    1. Then activate the correct environment in the terminal \n",
    "        ```\n",
    "        conda activate cs375\n",
    "        ```\n",
    "    1. Then relaunch your notebook again \n",
    "        ```\n",
    "        jupyter notebook \n",
    "        ```\n",
    "        \n",
    "1. If you are still having errors, follow [the set-up instructions again](https://github.com/cs375williams/hw0-preliminaries/blob/main/setup.md). \n",
    "\n",
    "1. If you spend more than 1 hour on this, please come see the instructor or TAs for help during office hours. "
   ]
  },
  {
   "cell_type": "markdown",
   "metadata": {
    "id": "lB5v_kZ3tsNB",
    "pycharm": {
     "name": "#%% md\n"
    }
   },
   "source": [
    "<a id='next_steps'></a>\n",
    "## 4. Next Steps\n",
    "\n",
    "`Jupyter Notebooks` are awesome tools for visualization, working with data, \n",
    "and doing quick prototyping. \n",
    "We hope they can become a useful tool in your toolbox if they haven't already!"
   ]
  },
  {
   "cell_type": "markdown",
   "metadata": {
    "id": "_gGbV2eHtsNB",
    "pycharm": {
     "name": "#%% md\n"
    }
   },
   "source": [
    "If you are interested in learning a little more `Jupyter-foo`, check out some of\n",
    "the links below. \n",
    "Even if you are relatively experienced with `Jupyter Notebooks`, it's likely \n",
    "that many of the tips below will be new to you. \n",
    "\n",
    "* [28 Jupyter Notebook Tips, Tricks, and Shortcuts](https://www.dataquest.io/blog/jupyter-notebook-tips-tricks-shortcuts/)\n",
    "* [Optimizing Jupyter Notebook: Tips, Tricks, and nbextensions](https://towardsdatascience.com/optimizing-jupyter-notebook-tips-tricks-and-nbextensions-26d75d502663)\n",
    "* [15 Tips and Tricks to Use Jupyter Notebook More Efficiently](https://towardsdatascience.com/15-tips-and-tricks-to-use-jupyter-notebook-more-efficiently-ef05ede4e4b9)\n"
   ]
  },
  {
   "cell_type": "markdown",
   "metadata": {},
   "source": [
    "## Credit\n",
    "\n",
    "Edited 2022-01-31 by Katie Keith. \n",
    "\n",
    "Based on the versions at Stanford: `CS 124: Jupyter and Python Tutorial` created by \n",
    "`Krishna Patel (Winter 2020)`, and updated by `Bryan Kim (Winter 2021)` and `Dilara Soylu (Fall 2021)`."
   ]
  }
 ],
 "metadata": {
  "colab": {
   "collapsed_sections": [],
   "name": "jupyter_tutorial.ipynb",
   "provenance": []
  },
  "kernelspec": {
   "display_name": "Python [conda env:cs375] *",
   "language": "python",
   "name": "conda-env-cs375-py"
  },
  "language_info": {
   "codemirror_mode": {
    "name": "ipython",
    "version": 3
   },
   "file_extension": ".py",
   "mimetype": "text/x-python",
   "name": "python",
   "nbconvert_exporter": "python",
   "pygments_lexer": "ipython3",
   "version": "3.11.9"
  }
 },
 "nbformat": 4,
 "nbformat_minor": 4
}
